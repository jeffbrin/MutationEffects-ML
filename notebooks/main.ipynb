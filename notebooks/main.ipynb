{
 "cells": [
  {
   "cell_type": "code",
   "execution_count": 3,
   "id": "83cdcf4b",
   "metadata": {},
   "outputs": [
    {
     "name": "stderr",
     "output_type": "stream",
     "text": [
      "/var/folders/y2/hmyqc1_n72j7cfjnz6w3k4rm0000gn/T/ipykernel_5011/1481901243.py:3: DtypeWarning: Columns (18) have mixed types. Specify dtype option on import or set low_memory=False.\n",
      "  df = pd.read_csv(\"../data/raw/variant_summary.txt\", delimiter=\"\\t\")\n"
     ]
    }
   ],
   "source": [
    "import pandas as pd\n",
    "\n",
    "df = pd.read_csv(\"../data/raw/variant_summary.txt\", delimiter=\"\\t\")"
   ]
  },
  {
   "cell_type": "code",
   "execution_count": 15,
   "id": "ddb0ad57",
   "metadata": {},
   "outputs": [
    {
     "data": {
      "text/plain": [
       "Index(['#AlleleID', 'Type', 'Name', 'GeneID', 'GeneSymbol', 'HGNC_ID',\n",
       "       'ClinicalSignificance', 'ClinSigSimple', 'LastEvaluated', 'RS# (dbSNP)',\n",
       "       'nsv/esv (dbVar)', 'RCVaccession', 'PhenotypeIDS', 'PhenotypeList',\n",
       "       'Origin', 'OriginSimple', 'Assembly', 'ChromosomeAccession',\n",
       "       'Chromosome', 'Start', 'Stop', 'ReferenceAllele', 'AlternateAllele',\n",
       "       'Cytogenetic', 'ReviewStatus', 'NumberSubmitters', 'Guidelines',\n",
       "       'TestedInGTR', 'OtherIDs', 'SubmitterCategories', 'VariationID',\n",
       "       'PositionVCF', 'ReferenceAlleleVCF', 'AlternateAlleleVCF',\n",
       "       'SomaticClinicalImpact', 'SomaticClinicalImpactLastEvaluated',\n",
       "       'ReviewStatusClinicalImpact', 'Oncogenicity',\n",
       "       'OncogenicityLastEvaluated', 'ReviewStatusOncogenicity',\n",
       "       'SCVsForAggregateGermlineClassification',\n",
       "       'SCVsForAggregateSomaticClinicalImpact',\n",
       "       'SCVsForAggregateOncogenicityClassification'],\n",
       "      dtype='object')"
      ]
     },
     "execution_count": 15,
     "metadata": {},
     "output_type": "execute_result"
    }
   ],
   "source": [
    "df.columns"
   ]
  },
  {
   "cell_type": "code",
   "execution_count": 34,
   "id": "168f3e09",
   "metadata": {},
   "outputs": [],
   "source": [
    "df['LastEvaluated_Year'] = df['LastEvaluated'].map(lambda d: int(d[-4:]) if len(d) > 4 else -1)"
   ]
  },
  {
   "cell_type": "code",
   "execution_count": 35,
   "id": "7087bbd4",
   "metadata": {},
   "outputs": [
    {
     "data": {
      "text/plain": [
       "0          2024\n",
       "1          2024\n",
       "2          2010\n",
       "3          2010\n",
       "4          2015\n",
       "           ... \n",
       "7859989    2025\n",
       "7859990    2025\n",
       "7859991    2025\n",
       "7859992      -1\n",
       "7859993      -1\n",
       "Name: LastEvaluated_Year, Length: 7859994, dtype: int64"
      ]
     },
     "execution_count": 35,
     "metadata": {},
     "output_type": "execute_result"
    }
   ],
   "source": [
    "df['LastEvaluated_Year']"
   ]
  },
  {
   "cell_type": "code",
   "execution_count": null,
   "id": "61596277",
   "metadata": {},
   "outputs": [
    {
     "data": {
      "text/plain": [
       "np.int64(-1)"
      ]
     },
     "execution_count": 39,
     "metadata": {},
     "output_type": "execute_result"
    }
   ],
   "source": [
    "df[df['Chromosome'] == '1']"
   ]
  },
  {
   "cell_type": "code",
   "execution_count": null,
   "id": "e3fcfb14",
   "metadata": {},
   "outputs": [],
   "source": []
  }
 ],
 "metadata": {
  "kernelspec": {
   "display_name": "gene-variation-effects",
   "language": "python",
   "name": "python3"
  },
  "language_info": {
   "codemirror_mode": {
    "name": "ipython",
    "version": 3
   },
   "file_extension": ".py",
   "mimetype": "text/x-python",
   "name": "python",
   "nbconvert_exporter": "python",
   "pygments_lexer": "ipython3",
   "version": "3.13.4"
  }
 },
 "nbformat": 4,
 "nbformat_minor": 5
}
